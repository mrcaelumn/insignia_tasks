{
 "cells": [
  {
   "cell_type": "code",
   "execution_count": 1,
   "metadata": {},
   "outputs": [],
   "source": [
    "%pip install pandas"
   ]
  },
  {
   "cell_type": "code",
   "execution_count": null,
   "metadata": {},
   "outputs": [],
   "source": [
    "import pandas as pd"
   ]
  },
  {
   "cell_type": "code",
   "execution_count": 2,
   "metadata": {},
   "outputs": [],
   "source": [
    "# Read the input CSV file\n",
    "raw_data = pd.read_csv(\"task_3_input.csv\")"
   ]
  },
  {
   "cell_type": "code",
   "execution_count": 3,
   "metadata": {},
   "outputs": [],
   "source": [
    "# Function to calculate the repeated letter part of the Serial Number\n",
    "def calculate_repeated_letter(number, letter):\n",
    "    if number % 2 == 0:\n",
    "        return letter * (number // 2)\n",
    "    else:\n",
    "        return letter\n",
    "\n",
    "# Function to calculate the power of 2 part of the Serial Number\n",
    "def calculate_power_of_2(number):\n",
    "    return 2 ** number\n",
    "\n",
    "# Function to calculate the remainder part of the Serial Number\n",
    "def calculate_remainder(number):\n",
    "    return number % 3\n",
    "\n",
    "# Function to map remainder to corresponding letter\n",
    "def map_remainder_to_letter(remainder):\n",
    "    return {0: \"O\", 1: \"R\", 2: \"RR\"}[remainder]"
   ]
  },
  {
   "cell_type": "code",
   "execution_count": 4,
   "metadata": {},
   "outputs": [],
   "source": [
    "# Initialize the list to hold the resulting rows\n",
    "result_data = []\n",
    "\n",
    "# Process each row to calculate the Serial Number\n",
    "for index, row in raw_data.iterrows():\n",
    "    number = row[\"Number\"]\n",
    "    letter = row[\"Letter\"]\n",
    "    \n",
    "    repeated_letter = calculate_repeated_letter(number, letter)\n",
    "    power_of_2 = calculate_power_of_2(number)\n",
    "    remainder = calculate_remainder(number)\n",
    "    remainder_letter = map_remainder_to_letter(remainder)\n",
    "    \n",
    "    serial_number = f\"{repeated_letter} - {power_of_2} - {number}{letter} - {remainder} - {remainder_letter}\"\n",
    "    \n",
    "    result_data.append([number, letter, serial_number])\n"
   ]
  },
  {
   "cell_type": "code",
   "execution_count": 5,
   "metadata": {},
   "outputs": [],
   "source": [
    "# Create the resulting DataFrame\n",
    "result_df = pd.DataFrame(result_data, columns=[\"Number\", \"Letter\", \"Serial Number\"])\n",
    "\n",
    "# Write the resulting DataFrame to a new CSV file\n",
    "result_df.to_csv(\"task_3_output.csv\", index=False)"
   ]
  },
  {
   "cell_type": "code",
   "execution_count": 6,
   "metadata": {},
   "outputs": [],
   "source": [
    "expected_df = pd.read_csv(\"task_3_expected.csv\")"
   ]
  },
  {
   "cell_type": "code",
   "execution_count": 7,
   "metadata": {},
   "outputs": [
    {
     "name": "stdout",
     "output_type": "stream",
     "text": [
      "The generated DataFrame is the same as the expected DataFrame:  True\n"
     ]
    }
   ],
   "source": [
    "# Check if the DataFrames are equal\n",
    "comparison = result_df.equals(expected_df)\n",
    "\n",
    "print(\"The generated DataFrame is the same as the expected DataFrame: \", comparison)"
   ]
  },
  {
   "cell_type": "code",
   "execution_count": null,
   "metadata": {},
   "outputs": [],
   "source": []
  }
 ],
 "metadata": {
  "kernelspec": {
   "display_name": "Python 3",
   "language": "python",
   "name": "python3"
  },
  "language_info": {
   "codemirror_mode": {
    "name": "ipython",
    "version": 3
   },
   "file_extension": ".py",
   "mimetype": "text/x-python",
   "name": "python",
   "nbconvert_exporter": "python",
   "pygments_lexer": "ipython3",
   "version": "3.9.18"
  }
 },
 "nbformat": 4,
 "nbformat_minor": 2
}
